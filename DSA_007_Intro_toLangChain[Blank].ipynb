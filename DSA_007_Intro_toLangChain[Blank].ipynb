{
  "cells": [
    {
      "cell_type": "markdown",
      "metadata": {
        "id": "view-in-github",
        "colab_type": "text"
      },
      "source": [
        "<a href=\"https://colab.research.google.com/github/iggyloh/Coursera/blob/main/DSA_007_Intro_toLangChain%5BBlank%5D.ipynb\" target=\"_parent\"><img src=\"https://colab.research.google.com/assets/colab-badge.svg\" alt=\"Open In Colab\"/></a>"
      ]
    },
    {
      "cell_type": "markdown",
      "metadata": {
        "id": "YtBgN8DmJ9ir"
      },
      "source": [
        "# Introduction to LangChain\n",
        "\n",
        "## What is LangChain?\n",
        "LangChain is a framework that helps you combine **language models** with various tools, APIs, and logic to create dynamic workflows and applications. It allows you to build **structured workflows** (LangGraphs) or flexible, real-time decision-makers (Agents) using large language models like GPT.\n",
        "\n",
        "You can think of LangChain as a **bridge/chain** that connects language models to different tools, databases, or functions, enabling the model to perform more complex tasks.\n",
        "\n",
        "---\n",
        "\n",
        "## Example\n",
        "Let’s say you want to build a **flight booking assistant** using LangChain. You can use a **LangGraph** (component of LangChain) to structure the assistant's tasks like this:\n",
        "1. Ask for the user’s destination.\n",
        "2. Search for available flights using an API.\n",
        "3. Show the user the available flights.\n",
        "4. Confirm the booking.\n",
        "\n",
        "## Analogy:\n",
        "Imagine LangChain as a GPS navigation system for your language models:\n",
        "\n",
        "If you follow a predefined route (LangGraph), it guides you step-by-step to your destination.\n",
        "But if there’s a detour or you decide to explore along the way, you can use an Agent to decide the best route dynamically, based on what’s happening in real-time.\n",
        "\n",
        "**Refer to the slides for the workflow!**"
      ]
    },
    {
      "cell_type": "markdown",
      "metadata": {
        "id": "dQqbi0GfJ9it"
      },
      "source": [
        "## SetUp"
      ]
    },
    {
      "cell_type": "code",
      "execution_count": 1,
      "metadata": {
        "colab": {
          "base_uri": "https://localhost:8080/"
        },
        "id": "-4FPgShzfad5",
        "outputId": "be35a55f-675a-4cd4-fc91-a9c9fdfa35b9"
      },
      "outputs": [
        {
          "output_type": "stream",
          "name": "stdout",
          "text": [
            "Collecting FastAPI\n",
            "  Downloading fastapi-0.115.3-py3-none-any.whl.metadata (27 kB)\n",
            "Collecting langserve\n",
            "  Downloading langserve-0.3.0-py3-none-any.whl.metadata (39 kB)\n",
            "Collecting sse_starlette\n",
            "  Downloading sse_starlette-2.1.3-py3-none-any.whl.metadata (5.8 kB)\n",
            "Collecting wikipedia\n",
            "  Downloading wikipedia-1.4.0.tar.gz (27 kB)\n",
            "  Preparing metadata (setup.py) ... \u001b[?25l\u001b[?25hdone\n",
            "Collecting python-dotenv\n",
            "  Downloading python_dotenv-1.0.1-py3-none-any.whl.metadata (23 kB)\n",
            "Collecting langchain-openai\n",
            "  Downloading langchain_openai-0.2.3-py3-none-any.whl.metadata (2.6 kB)\n",
            "Collecting langchain-core\n",
            "  Downloading langchain_core-0.3.12-py3-none-any.whl.metadata (6.3 kB)\n",
            "Collecting langchain\n",
            "  Downloading langchain-0.3.4-py3-none-any.whl.metadata (7.1 kB)\n",
            "Collecting langchain-community\n",
            "  Downloading langchain_community-0.3.3-py3-none-any.whl.metadata (2.8 kB)\n",
            "Collecting google-search-results\n",
            "  Downloading google_search_results-2.4.2.tar.gz (18 kB)\n",
            "  Preparing metadata (setup.py) ... \u001b[?25l\u001b[?25hdone\n",
            "Collecting langgraph\n",
            "  Downloading langgraph-0.2.39-py3-none-any.whl.metadata (13 kB)\n",
            "Collecting starlette<0.42.0,>=0.40.0 (from FastAPI)\n",
            "  Downloading starlette-0.41.0-py3-none-any.whl.metadata (6.0 kB)\n",
            "Requirement already satisfied: pydantic!=1.8,!=1.8.1,!=2.0.0,!=2.0.1,!=2.1.0,<3.0.0,>=1.7.4 in /usr/local/lib/python3.10/dist-packages (from FastAPI) (2.9.2)\n",
            "Requirement already satisfied: typing-extensions>=4.8.0 in /usr/local/lib/python3.10/dist-packages (from FastAPI) (4.12.2)\n",
            "Collecting httpx<1.0,>=0.23.0 (from langserve)\n",
            "  Downloading httpx-0.27.2-py3-none-any.whl.metadata (7.1 kB)\n",
            "Collecting orjson<4,>=2 (from langserve)\n",
            "  Downloading orjson-3.10.10-cp310-cp310-manylinux_2_17_x86_64.manylinux2014_x86_64.whl.metadata (50 kB)\n",
            "\u001b[2K     \u001b[90m━━━━━━━━━━━━━━━━━━━━━━━━━━━━━━━━━━━━━━━━\u001b[0m \u001b[32m50.6/50.6 kB\u001b[0m \u001b[31m1.6 MB/s\u001b[0m eta \u001b[36m0:00:00\u001b[0m\n",
            "\u001b[?25hCollecting uvicorn (from sse_starlette)\n",
            "  Downloading uvicorn-0.32.0-py3-none-any.whl.metadata (6.6 kB)\n",
            "Requirement already satisfied: anyio in /usr/local/lib/python3.10/dist-packages (from sse_starlette) (3.7.1)\n",
            "Requirement already satisfied: beautifulsoup4 in /usr/local/lib/python3.10/dist-packages (from wikipedia) (4.12.3)\n",
            "Requirement already satisfied: requests<3.0.0,>=2.0.0 in /usr/local/lib/python3.10/dist-packages (from wikipedia) (2.32.3)\n",
            "Collecting openai<2.0.0,>=1.52.0 (from langchain-openai)\n",
            "  Downloading openai-1.52.2-py3-none-any.whl.metadata (24 kB)\n",
            "Collecting tiktoken<1,>=0.7 (from langchain-openai)\n",
            "  Downloading tiktoken-0.8.0-cp310-cp310-manylinux_2_17_x86_64.manylinux2014_x86_64.whl.metadata (6.6 kB)\n",
            "Requirement already satisfied: PyYAML>=5.3 in /usr/local/lib/python3.10/dist-packages (from langchain-core) (6.0.2)\n",
            "Collecting jsonpatch<2.0,>=1.33 (from langchain-core)\n",
            "  Downloading jsonpatch-1.33-py2.py3-none-any.whl.metadata (3.0 kB)\n",
            "Collecting langsmith<0.2.0,>=0.1.125 (from langchain-core)\n",
            "  Downloading langsmith-0.1.137-py3-none-any.whl.metadata (13 kB)\n",
            "Requirement already satisfied: packaging<25,>=23.2 in /usr/local/lib/python3.10/dist-packages (from langchain-core) (24.1)\n",
            "Requirement already satisfied: tenacity!=8.4.0,<10.0.0,>=8.1.0 in /usr/local/lib/python3.10/dist-packages (from langchain-core) (9.0.0)\n",
            "Requirement already satisfied: SQLAlchemy<3,>=1.4 in /usr/local/lib/python3.10/dist-packages (from langchain) (2.0.36)\n",
            "Requirement already satisfied: aiohttp<4.0.0,>=3.8.3 in /usr/local/lib/python3.10/dist-packages (from langchain) (3.10.10)\n",
            "Requirement already satisfied: async-timeout<5.0.0,>=4.0.0 in /usr/local/lib/python3.10/dist-packages (from langchain) (4.0.3)\n",
            "Collecting langchain-text-splitters<0.4.0,>=0.3.0 (from langchain)\n",
            "  Downloading langchain_text_splitters-0.3.0-py3-none-any.whl.metadata (2.3 kB)\n",
            "Requirement already satisfied: numpy<2,>=1 in /usr/local/lib/python3.10/dist-packages (from langchain) (1.26.4)\n",
            "Collecting dataclasses-json<0.7,>=0.5.7 (from langchain-community)\n",
            "  Downloading dataclasses_json-0.6.7-py3-none-any.whl.metadata (25 kB)\n",
            "Collecting pydantic-settings<3.0.0,>=2.4.0 (from langchain-community)\n",
            "  Downloading pydantic_settings-2.6.0-py3-none-any.whl.metadata (3.5 kB)\n",
            "Collecting langgraph-checkpoint<3.0.0,>=2.0.0 (from langgraph)\n",
            "  Downloading langgraph_checkpoint-2.0.1-py3-none-any.whl.metadata (4.6 kB)\n",
            "Collecting langgraph-sdk<0.2.0,>=0.1.32 (from langgraph)\n",
            "  Downloading langgraph_sdk-0.1.33-py3-none-any.whl.metadata (1.8 kB)\n",
            "Requirement already satisfied: aiohappyeyeballs>=2.3.0 in /usr/local/lib/python3.10/dist-packages (from aiohttp<4.0.0,>=3.8.3->langchain) (2.4.3)\n",
            "Requirement already satisfied: aiosignal>=1.1.2 in /usr/local/lib/python3.10/dist-packages (from aiohttp<4.0.0,>=3.8.3->langchain) (1.3.1)\n",
            "Requirement already satisfied: attrs>=17.3.0 in /usr/local/lib/python3.10/dist-packages (from aiohttp<4.0.0,>=3.8.3->langchain) (24.2.0)\n",
            "Requirement already satisfied: frozenlist>=1.1.1 in /usr/local/lib/python3.10/dist-packages (from aiohttp<4.0.0,>=3.8.3->langchain) (1.4.1)\n",
            "Requirement already satisfied: multidict<7.0,>=4.5 in /usr/local/lib/python3.10/dist-packages (from aiohttp<4.0.0,>=3.8.3->langchain) (6.1.0)\n",
            "Requirement already satisfied: yarl<2.0,>=1.12.0 in /usr/local/lib/python3.10/dist-packages (from aiohttp<4.0.0,>=3.8.3->langchain) (1.16.0)\n",
            "Collecting marshmallow<4.0.0,>=3.18.0 (from dataclasses-json<0.7,>=0.5.7->langchain-community)\n",
            "  Downloading marshmallow-3.23.0-py3-none-any.whl.metadata (7.6 kB)\n",
            "Collecting typing-inspect<1,>=0.4.0 (from dataclasses-json<0.7,>=0.5.7->langchain-community)\n",
            "  Downloading typing_inspect-0.9.0-py3-none-any.whl.metadata (1.5 kB)\n",
            "Requirement already satisfied: certifi in /usr/local/lib/python3.10/dist-packages (from httpx<1.0,>=0.23.0->langserve) (2024.8.30)\n",
            "Collecting httpcore==1.* (from httpx<1.0,>=0.23.0->langserve)\n",
            "  Downloading httpcore-1.0.6-py3-none-any.whl.metadata (21 kB)\n",
            "Requirement already satisfied: idna in /usr/local/lib/python3.10/dist-packages (from httpx<1.0,>=0.23.0->langserve) (3.10)\n",
            "Requirement already satisfied: sniffio in /usr/local/lib/python3.10/dist-packages (from httpx<1.0,>=0.23.0->langserve) (1.3.1)\n",
            "Collecting h11<0.15,>=0.13 (from httpcore==1.*->httpx<1.0,>=0.23.0->langserve)\n",
            "  Downloading h11-0.14.0-py3-none-any.whl.metadata (8.2 kB)\n",
            "Collecting jsonpointer>=1.9 (from jsonpatch<2.0,>=1.33->langchain-core)\n",
            "  Downloading jsonpointer-3.0.0-py2.py3-none-any.whl.metadata (2.3 kB)\n",
            "Requirement already satisfied: msgpack<2.0.0,>=1.1.0 in /usr/local/lib/python3.10/dist-packages (from langgraph-checkpoint<3.0.0,>=2.0.0->langgraph) (1.1.0)\n",
            "Collecting httpx-sse>=0.4.0 (from langgraph-sdk<0.2.0,>=0.1.32->langgraph)\n",
            "  Downloading httpx_sse-0.4.0-py3-none-any.whl.metadata (9.0 kB)\n",
            "Collecting requests-toolbelt<2.0.0,>=1.0.0 (from langsmith<0.2.0,>=0.1.125->langchain-core)\n",
            "  Downloading requests_toolbelt-1.0.0-py2.py3-none-any.whl.metadata (14 kB)\n",
            "Requirement already satisfied: distro<2,>=1.7.0 in /usr/lib/python3/dist-packages (from openai<2.0.0,>=1.52.0->langchain-openai) (1.7.0)\n",
            "Collecting jiter<1,>=0.4.0 (from openai<2.0.0,>=1.52.0->langchain-openai)\n",
            "  Downloading jiter-0.6.1-cp310-cp310-manylinux_2_17_x86_64.manylinux2014_x86_64.whl.metadata (5.2 kB)\n",
            "Requirement already satisfied: tqdm>4 in /usr/local/lib/python3.10/dist-packages (from openai<2.0.0,>=1.52.0->langchain-openai) (4.66.5)\n",
            "Requirement already satisfied: exceptiongroup in /usr/local/lib/python3.10/dist-packages (from anyio->sse_starlette) (1.2.2)\n",
            "Requirement already satisfied: annotated-types>=0.6.0 in /usr/local/lib/python3.10/dist-packages (from pydantic!=1.8,!=1.8.1,!=2.0.0,!=2.0.1,!=2.1.0,<3.0.0,>=1.7.4->FastAPI) (0.7.0)\n",
            "Requirement already satisfied: pydantic-core==2.23.4 in /usr/local/lib/python3.10/dist-packages (from pydantic!=1.8,!=1.8.1,!=2.0.0,!=2.0.1,!=2.1.0,<3.0.0,>=1.7.4->FastAPI) (2.23.4)\n",
            "Requirement already satisfied: charset-normalizer<4,>=2 in /usr/local/lib/python3.10/dist-packages (from requests<3.0.0,>=2.0.0->wikipedia) (3.4.0)\n",
            "Requirement already satisfied: urllib3<3,>=1.21.1 in /usr/local/lib/python3.10/dist-packages (from requests<3.0.0,>=2.0.0->wikipedia) (2.2.3)\n",
            "Requirement already satisfied: greenlet!=0.4.17 in /usr/local/lib/python3.10/dist-packages (from SQLAlchemy<3,>=1.4->langchain) (3.1.1)\n",
            "Requirement already satisfied: regex>=2022.1.18 in /usr/local/lib/python3.10/dist-packages (from tiktoken<1,>=0.7->langchain-openai) (2024.9.11)\n",
            "Requirement already satisfied: soupsieve>1.2 in /usr/local/lib/python3.10/dist-packages (from beautifulsoup4->wikipedia) (2.6)\n",
            "Requirement already satisfied: click>=7.0 in /usr/local/lib/python3.10/dist-packages (from uvicorn->sse_starlette) (8.1.7)\n",
            "Collecting mypy-extensions>=0.3.0 (from typing-inspect<1,>=0.4.0->dataclasses-json<0.7,>=0.5.7->langchain-community)\n",
            "  Downloading mypy_extensions-1.0.0-py3-none-any.whl.metadata (1.1 kB)\n",
            "Requirement already satisfied: propcache>=0.2.0 in /usr/local/lib/python3.10/dist-packages (from yarl<2.0,>=1.12.0->aiohttp<4.0.0,>=3.8.3->langchain) (0.2.0)\n",
            "Downloading fastapi-0.115.3-py3-none-any.whl (94 kB)\n",
            "\u001b[2K   \u001b[90m━━━━━━━━━━━━━━━━━━━━━━━━━━━━━━━━━━━━━━━━\u001b[0m \u001b[32m94.6/94.6 kB\u001b[0m \u001b[31m5.6 MB/s\u001b[0m eta \u001b[36m0:00:00\u001b[0m\n",
            "\u001b[?25hDownloading langserve-0.3.0-py3-none-any.whl (1.2 MB)\n",
            "\u001b[2K   \u001b[90m━━━━━━━━━━━━━━━━━━━━━━━━━━━━━━━━━━━━━━━━\u001b[0m \u001b[32m1.2/1.2 MB\u001b[0m \u001b[31m26.1 MB/s\u001b[0m eta \u001b[36m0:00:00\u001b[0m\n",
            "\u001b[?25hDownloading sse_starlette-2.1.3-py3-none-any.whl (9.4 kB)\n",
            "Downloading python_dotenv-1.0.1-py3-none-any.whl (19 kB)\n",
            "Downloading langchain_openai-0.2.3-py3-none-any.whl (49 kB)\n",
            "\u001b[2K   \u001b[90m━━━━━━━━━━━━━━━━━━━━━━━━━━━━━━━━━━━━━━━━\u001b[0m \u001b[32m49.9/49.9 kB\u001b[0m \u001b[31m3.3 MB/s\u001b[0m eta \u001b[36m0:00:00\u001b[0m\n",
            "\u001b[?25hDownloading langchain_core-0.3.12-py3-none-any.whl (407 kB)\n",
            "\u001b[2K   \u001b[90m━━━━━━━━━━━━━━━━━━━━━━━━━━━━━━━━━━━━━━━━\u001b[0m \u001b[32m407.7/407.7 kB\u001b[0m \u001b[31m20.9 MB/s\u001b[0m eta \u001b[36m0:00:00\u001b[0m\n",
            "\u001b[?25hDownloading langchain-0.3.4-py3-none-any.whl (1.0 MB)\n",
            "\u001b[2K   \u001b[90m━━━━━━━━━━━━━━━━━━━━━━━━━━━━━━━━━━━━━━━━\u001b[0m \u001b[32m1.0/1.0 MB\u001b[0m \u001b[31m32.2 MB/s\u001b[0m eta \u001b[36m0:00:00\u001b[0m\n",
            "\u001b[?25hDownloading langchain_community-0.3.3-py3-none-any.whl (2.4 MB)\n",
            "\u001b[2K   \u001b[90m━━━━━━━━━━━━━━━━━━━━━━━━━━━━━━━━━━━━━━━━\u001b[0m \u001b[32m2.4/2.4 MB\u001b[0m \u001b[31m47.8 MB/s\u001b[0m eta \u001b[36m0:00:00\u001b[0m\n",
            "\u001b[?25hDownloading langgraph-0.2.39-py3-none-any.whl (113 kB)\n",
            "\u001b[2K   \u001b[90m━━━━━━━━━━━━━━━━━━━━━━━━━━━━━━━━━━━━━━━━\u001b[0m \u001b[32m113.5/113.5 kB\u001b[0m \u001b[31m7.8 MB/s\u001b[0m eta \u001b[36m0:00:00\u001b[0m\n",
            "\u001b[?25hDownloading dataclasses_json-0.6.7-py3-none-any.whl (28 kB)\n",
            "Downloading httpx-0.27.2-py3-none-any.whl (76 kB)\n",
            "\u001b[2K   \u001b[90m━━━━━━━━━━━━━━━━━━━━━━━━━━━━━━━━━━━━━━━━\u001b[0m \u001b[32m76.4/76.4 kB\u001b[0m \u001b[31m5.0 MB/s\u001b[0m eta \u001b[36m0:00:00\u001b[0m\n",
            "\u001b[?25hDownloading httpcore-1.0.6-py3-none-any.whl (78 kB)\n",
            "\u001b[2K   \u001b[90m━━━━━━━━━━━━━━━━━━━━━━━━━━━━━━━━━━━━━━━━\u001b[0m \u001b[32m78.0/78.0 kB\u001b[0m \u001b[31m5.7 MB/s\u001b[0m eta \u001b[36m0:00:00\u001b[0m\n",
            "\u001b[?25hDownloading jsonpatch-1.33-py2.py3-none-any.whl (12 kB)\n",
            "Downloading langchain_text_splitters-0.3.0-py3-none-any.whl (25 kB)\n",
            "Downloading langgraph_checkpoint-2.0.1-py3-none-any.whl (22 kB)\n",
            "Downloading langgraph_sdk-0.1.33-py3-none-any.whl (28 kB)\n",
            "Downloading langsmith-0.1.137-py3-none-any.whl (296 kB)\n",
            "\u001b[2K   \u001b[90m━━━━━━━━━━━━━━━━━━━━━━━━━━━━━━━━━━━━━━━━\u001b[0m \u001b[32m296.9/296.9 kB\u001b[0m \u001b[31m17.4 MB/s\u001b[0m eta \u001b[36m0:00:00\u001b[0m\n",
            "\u001b[?25hDownloading openai-1.52.2-py3-none-any.whl (386 kB)\n",
            "\u001b[2K   \u001b[90m━━━━━━━━━━━━━━━━━━━━━━━━━━━━━━━━━━━━━━━━\u001b[0m \u001b[32m386.9/386.9 kB\u001b[0m \u001b[31m23.9 MB/s\u001b[0m eta \u001b[36m0:00:00\u001b[0m\n",
            "\u001b[?25hDownloading orjson-3.10.10-cp310-cp310-manylinux_2_17_x86_64.manylinux2014_x86_64.whl (144 kB)\n",
            "\u001b[2K   \u001b[90m━━━━━━━━━━━━━━━━━━━━━━━━━━━━━━━━━━━━━━━━\u001b[0m \u001b[32m144.5/144.5 kB\u001b[0m \u001b[31m10.1 MB/s\u001b[0m eta \u001b[36m0:00:00\u001b[0m\n",
            "\u001b[?25hDownloading pydantic_settings-2.6.0-py3-none-any.whl (28 kB)\n",
            "Downloading starlette-0.41.0-py3-none-any.whl (73 kB)\n",
            "\u001b[2K   \u001b[90m━━━━━━━━━━━━━━━━━━━━━━━━━━━━━━━━━━━━━━━━\u001b[0m \u001b[32m73.2/73.2 kB\u001b[0m \u001b[31m4.5 MB/s\u001b[0m eta \u001b[36m0:00:00\u001b[0m\n",
            "\u001b[?25hDownloading tiktoken-0.8.0-cp310-cp310-manylinux_2_17_x86_64.manylinux2014_x86_64.whl (1.2 MB)\n",
            "\u001b[2K   \u001b[90m━━━━━━━━━━━━━━━━━━━━━━━━━━━━━━━━━━━━━━━━\u001b[0m \u001b[32m1.2/1.2 MB\u001b[0m \u001b[31m15.8 MB/s\u001b[0m eta \u001b[36m0:00:00\u001b[0m\n",
            "\u001b[?25hDownloading uvicorn-0.32.0-py3-none-any.whl (63 kB)\n",
            "\u001b[2K   \u001b[90m━━━━━━━━━━━━━━━━━━━━━━━━━━━━━━━━━━━━━━━━\u001b[0m \u001b[32m63.7/63.7 kB\u001b[0m \u001b[31m2.9 MB/s\u001b[0m eta \u001b[36m0:00:00\u001b[0m\n",
            "\u001b[?25hDownloading h11-0.14.0-py3-none-any.whl (58 kB)\n",
            "\u001b[2K   \u001b[90m━━━━━━━━━━━━━━━━━━━━━━━━━━━━━━━━━━━━━━━━\u001b[0m \u001b[32m58.3/58.3 kB\u001b[0m \u001b[31m4.0 MB/s\u001b[0m eta \u001b[36m0:00:00\u001b[0m\n",
            "\u001b[?25hDownloading httpx_sse-0.4.0-py3-none-any.whl (7.8 kB)\n",
            "Downloading jiter-0.6.1-cp310-cp310-manylinux_2_17_x86_64.manylinux2014_x86_64.whl (325 kB)\n",
            "\u001b[2K   \u001b[90m━━━━━━━━━━━━━━━━━━━━━━━━━━━━━━━━━━━━━━━━\u001b[0m \u001b[32m325.2/325.2 kB\u001b[0m \u001b[31m19.5 MB/s\u001b[0m eta \u001b[36m0:00:00\u001b[0m\n",
            "\u001b[?25hDownloading jsonpointer-3.0.0-py2.py3-none-any.whl (7.6 kB)\n",
            "Downloading marshmallow-3.23.0-py3-none-any.whl (49 kB)\n",
            "\u001b[2K   \u001b[90m━━━━━━━━━━━━━━━━━━━━━━━━━━━━━━━━━━━━━━━━\u001b[0m \u001b[32m49.5/49.5 kB\u001b[0m \u001b[31m3.0 MB/s\u001b[0m eta \u001b[36m0:00:00\u001b[0m\n",
            "\u001b[?25hDownloading requests_toolbelt-1.0.0-py2.py3-none-any.whl (54 kB)\n",
            "\u001b[2K   \u001b[90m━━━━━━━━━━━━━━━━━━━━━━━━━━━━━━━━━━━━━━━━\u001b[0m \u001b[32m54.5/54.5 kB\u001b[0m \u001b[31m3.1 MB/s\u001b[0m eta \u001b[36m0:00:00\u001b[0m\n",
            "\u001b[?25hDownloading typing_inspect-0.9.0-py3-none-any.whl (8.8 kB)\n",
            "Downloading mypy_extensions-1.0.0-py3-none-any.whl (4.7 kB)\n",
            "Building wheels for collected packages: wikipedia, google-search-results\n",
            "  Building wheel for wikipedia (setup.py) ... \u001b[?25l\u001b[?25hdone\n",
            "  Created wheel for wikipedia: filename=wikipedia-1.4.0-py3-none-any.whl size=11679 sha256=adad8767534e183545fe51c302df477fcba966e41f998828590ceda39f50960c\n",
            "  Stored in directory: /root/.cache/pip/wheels/5e/b6/c5/93f3dec388ae76edc830cb42901bb0232504dfc0df02fc50de\n",
            "  Building wheel for google-search-results (setup.py) ... \u001b[?25l\u001b[?25hdone\n",
            "  Created wheel for google-search-results: filename=google_search_results-2.4.2-py3-none-any.whl size=32009 sha256=ca9aeba27c782cd80b7baadef2079e537d95481e3dc2ee0f7514d7e1e78ab9d3\n",
            "  Stored in directory: /root/.cache/pip/wheels/d3/b2/c3/03302d12bb44a2cdff3c9371f31b72c0c4e84b8d2285eeac53\n",
            "Successfully built wikipedia google-search-results\n",
            "Installing collected packages: python-dotenv, orjson, mypy-extensions, marshmallow, jsonpointer, jiter, httpx-sse, h11, wikipedia, uvicorn, typing-inspect, tiktoken, starlette, requests-toolbelt, jsonpatch, httpcore, google-search-results, sse_starlette, pydantic-settings, httpx, FastAPI, dataclasses-json, openai, langsmith, langgraph-sdk, langchain-core, langserve, langgraph-checkpoint, langchain-text-splitters, langchain-openai, langgraph, langchain, langchain-community\n",
            "Successfully installed FastAPI-0.115.3 dataclasses-json-0.6.7 google-search-results-2.4.2 h11-0.14.0 httpcore-1.0.6 httpx-0.27.2 httpx-sse-0.4.0 jiter-0.6.1 jsonpatch-1.33 jsonpointer-3.0.0 langchain-0.3.4 langchain-community-0.3.3 langchain-core-0.3.12 langchain-openai-0.2.3 langchain-text-splitters-0.3.0 langgraph-0.2.39 langgraph-checkpoint-2.0.1 langgraph-sdk-0.1.33 langserve-0.3.0 langsmith-0.1.137 marshmallow-3.23.0 mypy-extensions-1.0.0 openai-1.52.2 orjson-3.10.10 pydantic-settings-2.6.0 python-dotenv-1.0.1 requests-toolbelt-1.0.0 sse_starlette-2.1.3 starlette-0.41.0 tiktoken-0.8.0 typing-inspect-0.9.0 uvicorn-0.32.0 wikipedia-1.4.0\n"
          ]
        }
      ],
      "source": [
        "# Download necessary\n",
        "%pip install FastAPI langserve sse_starlette wikipedia python-dotenv langchain-openai langchain-core langchain langchain-community google-search-results langgraph"
      ]
    },
    {
      "cell_type": "code",
      "execution_count": 2,
      "metadata": {
        "id": "oGqX5ZeVJ9iu"
      },
      "outputs": [],
      "source": [
        "import os\n",
        "from dotenv import load_dotenv\n",
        "from langchain_openai import ChatOpenAI"
      ]
    },
    {
      "cell_type": "code",
      "execution_count": 5,
      "metadata": {
        "colab": {
          "base_uri": "https://localhost:8080/"
        },
        "id": "QFg80zZrJ9iv",
        "outputId": "cc4bc915-87bc-49aa-cac9-7901561364b3"
      },
      "outputs": [
        {
          "output_type": "execute_result",
          "data": {
            "text/plain": [
              "True"
            ]
          },
          "metadata": {},
          "execution_count": 5
        }
      ],
      "source": [
        "load_dotenv('template.env')"
      ]
    },
    {
      "cell_type": "code",
      "execution_count": 6,
      "metadata": {
        "id": "x7qwQbf5J9iv"
      },
      "outputs": [],
      "source": [
        "# Call in the model\n",
        "# 'gpt-4'\n",
        "# 'gpt-3.5-turbo'\n",
        "open_api_key = os.getenv('OPEN_API_KEY')\n",
        "gpt = ChatOpenAI(model = 'gpt-4', temperature = 0.7)"
      ]
    },
    {
      "cell_type": "code",
      "execution_count": 7,
      "metadata": {
        "id": "JTmixPh2J9iv"
      },
      "outputs": [],
      "source": [
        "# Track out cost and understand how langchain works\n",
        "tracing = os.getenv(\"LANGCHAIN_TRACING_V2\")\n",
        "langsmith = os.getenv(\"LANGCHAIN_API_KEY\")"
      ]
    },
    {
      "cell_type": "code",
      "execution_count": null,
      "metadata": {
        "id": "PnhZAPlAVJgU"
      },
      "outputs": [],
      "source": []
    },
    {
      "cell_type": "markdown",
      "metadata": {
        "id": "8QmHKF1GJ9iv"
      },
      "source": [
        "## LangChain Example (1)\n",
        "Let's go back to the slides"
      ]
    },
    {
      "cell_type": "code",
      "execution_count": 8,
      "metadata": {
        "id": "Y3QYeIvtPQAi"
      },
      "outputs": [],
      "source": [
        "from langchain_core.prompts import(\n",
        "    ChatPromptTemplate,\n",
        "    FewShotChatMessagePromptTemplate,\n",
        "    SystemMessagePromptTemplate,\n",
        "    HumanMessagePromptTemplate\n",
        ")\n",
        "from langchain_core.output_parsers import StrOutputParser\n",
        "from langchain.chat_models import ChatOpenAI"
      ]
    },
    {
      "cell_type": "code",
      "execution_count": 9,
      "metadata": {
        "id": "fDV4J6HZPP6b"
      },
      "outputs": [],
      "source": [
        "# Define the prompt template with placeholders for genre and number of recommendations\n",
        "\n",
        "# \"system\", \"You are a movie critic who recommends movies based on genre.\"\n",
        "# \"human\", \"Recommend {movie_count} movies in the {genre} genre.\"\n",
        "\n",
        "prompt_template = ChatPromptTemplate.from_messages(\n",
        "    [\n",
        "        (\"system\", \"You are a movie critic who recommends movies based on genre.\"),\n",
        "        (\"human\", \"Recommend {movie_count} movies in the {genre} genre.\"),\n",
        "    ]\n",
        ")"
      ]
    },
    {
      "cell_type": "code",
      "execution_count": 10,
      "metadata": {
        "id": "1X-B5QBrQhLC"
      },
      "outputs": [],
      "source": [
        "# Generate our few shot examples from a famous movie critic that you respect their opinion\n",
        "examples = [\n",
        "    {\n",
        "        \"input\": (\"human\", \"Recommend 3 movies in the science fiction genre.\"),\n",
        "        \"output\": (\"system\", \"Here are 3 must-watch science fiction movies:\\n\"\n",
        "                    \"1. Blade Runner 2049 (2017) – A visually stunning sequel that explores themes of identity and artificial intelligence.\\n\"\n",
        "                    \"2. The Matrix (1999) – A groundbreaking film that blends philosophy, action, and technology in a dystopian future.\\n\"\n",
        "                    \"3. Interstellar (2014) – A space epic that delves into the emotional and scientific challenges of interstellar travel.\")\n",
        "    },\n",
        "    {\n",
        "        \"input\": (\"human\", \"Recommend 2 movies in the horror genre.\"),\n",
        "        \"output\": (\"system\", \"Here are 2 terrifying horror movies:\\n\"\n",
        "                    \"1. Hereditary (2018) – A chilling psychological horror film that explores family secrets and supernatural elements.\\n\"\n",
        "                    \"2. The Conjuring (2013) – Based on true events, this film is a masterclass in building suspense and delivering scares.\")\n",
        "    },\n",
        "    {\n",
        "        \"input\": (\"human\", \"Recommend 4 movies in the action genre.\"),\n",
        "        \"output\": (\"system\", \"Here are 4 adrenaline-pumping action movies:\\n\"\n",
        "                    \"1. Mad Max: Fury Road (2015) – A high-octane chase across a post-apocalyptic desert with stunning visuals and practical effects.\\n\"\n",
        "                    \"2. John Wick (2014) – A sleek and stylish film featuring expertly choreographed fight sequences.\\n\"\n",
        "                    \"3. Die Hard (1988) – The ultimate action movie with a thrilling story of a cop fighting terrorists in a high-rise building.\\n\"\n",
        "                    \"4. The Dark Knight (2008) – A superhero film that combines action with a deep exploration of morality and chaos.\")\n",
        "    },\n",
        "    {\n",
        "        \"input\": (\"human\", \"Recommend 5 movies in the romantic comedy genre.\"),\n",
        "        \"output\": (\"system\", \"Here are 5 delightful romantic comedies:\\n\"\n",
        "                    \"1. Notting Hill (1999) – A charming story of an ordinary bookstore owner falling for a famous actress.\\n\"\n",
        "                    \"2. 10 Things I Hate About You (1999) – A modern retelling of Shakespeare’s *The Taming of the Shrew*, set in high school.\\n\"\n",
        "                    \"3. Crazy Rich Asians (2018) – A romantic comedy that blends cultural identity with lavish settings and heartwarming moments.\\n\"\n",
        "                    \"4. When Harry Met Sally (1989) – A classic film exploring whether men and women can ever just be friends.\\n\"\n",
        "                    \"5. The Proposal (2009) – A hilarious and heartwarming movie about a fake engagement that turns into real love.\")\n",
        "    }\n",
        "]\n"
      ]
    },
    {
      "cell_type": "code",
      "execution_count": 12,
      "metadata": {
        "id": "QsfW0GT1QRd3"
      },
      "outputs": [],
      "source": [
        "# For us to tell llm what kind of task and query the llm will receive\n",
        "example_prompt = ChatPromptTemplate.from_messages(\n",
        "    ['human', '{input}',\n",
        "    'ai' , '{output}']\n",
        ")\n",
        "\n",
        "# Past examples of a good reply\n",
        "few_shot_prompt = FewShotChatMessagePromptTemplate(\n",
        "    example_prompt = example_prompt,\n",
        "    examples = examples\n",
        ")"
      ]
    },
    {
      "cell_type": "code",
      "execution_count": 14,
      "metadata": {
        "id": "XhGvnL7nQTsm"
      },
      "outputs": [],
      "source": [
        "# The final prompt we will use to prompt things from the LLM\n",
        "final_prompt = ChatPromptTemplate(\n",
        "    [prompt_template, few_shot_prompt,\n",
        "     ]\n",
        ")"
      ]
    },
    {
      "cell_type": "code",
      "execution_count": 16,
      "metadata": {
        "colab": {
          "base_uri": "https://localhost:8080/"
        },
        "id": "fZG8QoIeTAz3",
        "outputId": "a4063e4a-4e19-402b-9ba2-fe8aa680aec5"
      },
      "outputs": [
        {
          "output_type": "stream",
          "name": "stdout",
          "text": [
            "[SystemMessage(content='You are a movie critic who recommends movies based on genre.', additional_kwargs={}, response_metadata={}), HumanMessage(content='Recommend 3 movies in the science fiction genre.', additional_kwargs={}, response_metadata={}), HumanMessage(content='human', additional_kwargs={}, response_metadata={}), HumanMessage(content=\"('human', 'Recommend 3 movies in the science fiction genre.')\", additional_kwargs={}, response_metadata={}), HumanMessage(content='ai', additional_kwargs={}, response_metadata={}), HumanMessage(content=\"('system', 'Here are 3 must-watch science fiction movies:\\\\n1. Blade Runner 2049 (2017) – A visually stunning sequel that explores themes of identity and artificial intelligence.\\\\n2. The Matrix (1999) – A groundbreaking film that blends philosophy, action, and technology in a dystopian future.\\\\n3. Interstellar (2014) – A space epic that delves into the emotional and scientific challenges of interstellar travel.')\", additional_kwargs={}, response_metadata={}), HumanMessage(content='human', additional_kwargs={}, response_metadata={}), HumanMessage(content=\"('human', 'Recommend 2 movies in the horror genre.')\", additional_kwargs={}, response_metadata={}), HumanMessage(content='ai', additional_kwargs={}, response_metadata={}), HumanMessage(content=\"('system', 'Here are 2 terrifying horror movies:\\\\n1. Hereditary (2018) – A chilling psychological horror film that explores family secrets and supernatural elements.\\\\n2. The Conjuring (2013) – Based on true events, this film is a masterclass in building suspense and delivering scares.')\", additional_kwargs={}, response_metadata={}), HumanMessage(content='human', additional_kwargs={}, response_metadata={}), HumanMessage(content=\"('human', 'Recommend 4 movies in the action genre.')\", additional_kwargs={}, response_metadata={}), HumanMessage(content='ai', additional_kwargs={}, response_metadata={}), HumanMessage(content=\"('system', 'Here are 4 adrenaline-pumping action movies:\\\\n1. Mad Max: Fury Road (2015) – A high-octane chase across a post-apocalyptic desert with stunning visuals and practical effects.\\\\n2. John Wick (2014) – A sleek and stylish film featuring expertly choreographed fight sequences.\\\\n3. Die Hard (1988) – The ultimate action movie with a thrilling story of a cop fighting terrorists in a high-rise building.\\\\n4. The Dark Knight (2008) – A superhero film that combines action with a deep exploration of morality and chaos.')\", additional_kwargs={}, response_metadata={}), HumanMessage(content='human', additional_kwargs={}, response_metadata={}), HumanMessage(content=\"('human', 'Recommend 5 movies in the romantic comedy genre.')\", additional_kwargs={}, response_metadata={}), HumanMessage(content='ai', additional_kwargs={}, response_metadata={}), HumanMessage(content=\"('system', 'Here are 5 delightful romantic comedies:\\\\n1. Notting Hill (1999) – A charming story of an ordinary bookstore owner falling for a famous actress.\\\\n2. 10 Things I Hate About You (1999) – A modern retelling of Shakespeare’s *The Taming of the Shrew*, set in high school.\\\\n3. Crazy Rich Asians (2018) – A romantic comedy that blends cultural identity with lavish settings and heartwarming moments.\\\\n4. When Harry Met Sally (1989) – A classic film exploring whether men and women can ever just be friends.\\\\n5. The Proposal (2009) – A hilarious and heartwarming movie about a fake engagement that turns into real love.')\", additional_kwargs={}, response_metadata={})]\n"
          ]
        }
      ],
      "source": [
        "# Check that everything is working well\n",
        "print(final_prompt.invoke({'genre': 'science fiction', 'movie_count': 3}).messages)"
      ]
    },
    {
      "cell_type": "code",
      "execution_count": 22,
      "metadata": {
        "id": "hrzijSXaPPyX"
      },
      "outputs": [],
      "source": [
        "# Create the combined chain using LangChain Expression Language (LCEL) each of this block is a runnable.\n",
        "chain = final_prompt | gpt | StrOutputParser()"
      ]
    },
    {
      "cell_type": "code",
      "source": [],
      "metadata": {
        "id": "E3kbYSz5ZANq"
      },
      "execution_count": null,
      "outputs": []
    },
    {
      "cell_type": "code",
      "execution_count": 23,
      "metadata": {
        "colab": {
          "base_uri": "https://localhost:8080/"
        },
        "id": "5BJpPRBgP_7H",
        "outputId": "d59600c9-cbe3-4525-e5e2-43527406742a"
      },
      "outputs": [
        {
          "output_type": "stream",
          "name": "stdout",
          "text": [
            "('system', 'Here are 5 delightful romantic comedies:\\n1. Notting Hill (1999) – A charming story of an ordinary bookstore owner falling for a famous actress.\\n2. 10 Things I Hate About You (1999) – A modern retelling of Shakespeare’s *The Taming of the Shrew*, set in high school.\\n3. Crazy Rich Asians (2018) – A romantic comedy that blends cultural identity with lavish settings and heartwarming moments.\\n4. When Harry Met Sally (1989) – A classic film exploring whether men and women can ever just be friends.\\n5. The Proposal (2009) – A hilarious and heartwarming movie about a fake engagement that turns into real love.')\n"
          ]
        }
      ],
      "source": [
        "# Run the chain with parameters for genre and number of recommendations\n",
        "results = chain.invoke({'genre': 'comedy', 'movie_count': 5})\n",
        "\n",
        "# Output\n",
        "print(results)"
      ]
    },
    {
      "cell_type": "markdown",
      "metadata": {
        "id": "mzNV6l4YJ9iw"
      },
      "source": [
        "### You are probably wondering what is StrOutputParser() ??\n",
        "Well, it's a great way to force our output to be formatted a certain way!  \n",
        "There are many outputs you can form using OutputParsers in LangChain.\n",
        "\n",
        "The `StrOutputParser()` is just one of many types of parsers. It converts the output from the language model into a simple string format, which is useful when you want to ensure the output is clean and easy to handle.\n",
        "\n",
        "---\n",
        "\n",
        "### Types of OutputParser you can use:\n",
        "LangChain provides several types of output parsers that you can use depending on the format you need for the task. Here's a list of some common ones:\n",
        "\n",
        "1. **StrOutputParser**: Parses the output as a plain string.\n",
        "2. **JsonOutputParser**: Ensures that the output is formatted as valid JSON.\n",
        "3. **RegexOutputParser**: Uses regular expressions to parse specific parts of the output.\n",
        "4. **BooleanOutputParser**: Converts the output into a boolean (True/False) based on the content.\n",
        "5. **ListOutputParser**: Formats the output as a list of items.\n",
        "6. **CsvOutputParser**: Parses the output into CSV format.\n",
        "7. **DictOutputParser**: Parses the output as a Python dictionary.\n",
        "\n",
        "For more detailed information about **OutputParser** and how to use them, you can check out the official [LangChain OutputParser documentation](https://docs.langchain.com/docs/modules/chains/prompts/output_parsers).\n"
      ]
    },
    {
      "cell_type": "code",
      "execution_count": null,
      "metadata": {
        "id": "HJ-2awm8X9IG"
      },
      "outputs": [],
      "source": [
        "from langchain_core.output_parsers import PydanticOutputParser\n",
        "from langchain.prompts import PromptTemplate\n",
        "from pydantic import BaseModel, Field, field_validator\n",
        "from typing import List, Optional\n",
        "import re"
      ]
    },
    {
      "cell_type": "code",
      "execution_count": null,
      "metadata": {
        "id": "2i1DkqMuepuS"
      },
      "outputs": [],
      "source": [
        "# Now creating joke db for example we want the question and answer to the joke in the db"
      ]
    },
    {
      "cell_type": "code",
      "execution_count": null,
      "metadata": {
        "id": "g-6VY0t8xeFJ"
      },
      "outputs": [],
      "source": []
    },
    {
      "cell_type": "code",
      "execution_count": null,
      "metadata": {
        "id": "ksaENV67xhTo"
      },
      "outputs": [],
      "source": []
    },
    {
      "cell_type": "code",
      "execution_count": null,
      "metadata": {
        "id": "Z5-v7ZTnxvYk"
      },
      "outputs": [],
      "source": []
    },
    {
      "cell_type": "code",
      "execution_count": null,
      "metadata": {
        "id": "FprJFFAKx5QZ"
      },
      "outputs": [],
      "source": []
    },
    {
      "cell_type": "markdown",
      "metadata": {
        "id": "UDYG73RpJ9iw"
      },
      "source": [
        "## Intermediate Langchain\n",
        "\n",
        "### Feedback provider"
      ]
    },
    {
      "cell_type": "code",
      "execution_count": null,
      "metadata": {
        "id": "HGWWxqRJzb9t"
      },
      "outputs": [],
      "source": [
        "from langchain.schema.runnable import RunnableBranch, RunnableLambda"
      ]
    },
    {
      "cell_type": "markdown",
      "metadata": {
        "id": "QJg48wO6U2or"
      },
      "source": [
        "## Key Uses of RunnableBranch:\n",
        "\n",
        "### Conditional Logic: It allows you to create conditional branches in your workflows where different actions are taken depending on the input. It’s like an “if-else” statement in programming but applied to language models and workflows.\n",
        "\n",
        "### Dynamic Control: Based on the input data or the result of a previous step, it can decide which branch of logic to follow, making workflows more dynamic and adaptable."
      ]
    },
    {
      "cell_type": "code",
      "execution_count": null,
      "metadata": {
        "id": "HDhgYG9HyF1p"
      },
      "outputs": [],
      "source": [
        "# Define prompt templates for different feedback types\n",
        "positive_feedback_template = ChatPromptTemplate.from_messages(\n",
        "    [\n",
        "        (\"system\", \"You are a helpful assistant.\"),\n",
        "        (\n",
        "            \"human\",\n",
        "            \"Generate a thank you note for this positive feedback: {feedback}.\"\n",
        "        ),\n",
        "    ]\n",
        ")\n",
        "\n",
        "negative_feedback_template = ChatPromptTemplate.from_messages(\n",
        "    [\n",
        "        (\"system\", \"You are a helpful assistant.\"),\n",
        "        (\n",
        "            \"human\",\n",
        "          \"Generate a response addressing this negative feedback: {feedback}.\"\n",
        "        ),\n",
        "    ]\n",
        ")\n",
        "\n",
        "neutral_feedback_template = ChatPromptTemplate.from_messages(\n",
        "    [\n",
        "        (\"system\", \"You are a helpful assistant.\"),\n",
        "        (\n",
        "            \"human\",\n",
        "            \"Generate a request for more details for this neutral feedback: {feedback}.\",\n",
        "        ),\n",
        "    ]\n",
        ")\n",
        "\n",
        "escalate_feedback_template = ChatPromptTemplate.from_messages(\n",
        "    [\n",
        "        (\"system\", \"You are a helpful assistant.\"),\n",
        "        (\n",
        "            \"human\",\n",
        "            \"Generate a message to escalate this feedback to a human agent: {feedback}.\",\n",
        "        ),\n",
        "    ]\n",
        ")\n",
        "\n",
        "# Define the feedback classification template\n",
        "classification_template = ChatPromptTemplate.from_messages(\n",
        "    [\n",
        "        (\"system\", \"You are a helpful assistant.\"),\n",
        "        (\n",
        "            \"human\",\n",
        "            \"Classify the sentiment of this feedback as positive, negative, neutral, or escalate: {feedback}.\"\n",
        "        ),\n",
        "    ]\n",
        ")"
      ]
    },
    {
      "cell_type": "code",
      "execution_count": null,
      "metadata": {
        "id": "ZEj-gou1J9iw"
      },
      "outputs": [],
      "source": [
        "# Define the runnable branches for handling feedback\n",
        "branches = RunnableBranch(\n",
        "\n",
        ")\n",
        "\n",
        "# To force our response to take this actions!\n",
        "uppercase_output\n",
        "count_words\n",
        "\n",
        "# Create the classification chain to classify\n",
        "\n",
        "\n",
        "# Combine classification and response generation into one chain and take forced actions\n",
        "\n",
        "\n",
        "# Run the chain with an example review\n",
        "\n",
        "# Good review - \"The product is excellent. I really enjoyed using it and found it very helpful.\"\n",
        "# Bad review - \"The product is terrible. It broke after just one use and the quality is very poor.\"\n",
        "# Neutral review - \"The product is okay. It works as expected but nothing exceptional.\"\n",
        "# Default - \"I'm not sure about the product yet. Can you tell me more about its features and benefits?\"\n",
        "\n",
        "\n",
        "\n",
        "# Output the result\n",
        "print(result)"
      ]
    },
    {
      "cell_type": "markdown",
      "metadata": {
        "id": "oAWbgksrJ9iw"
      },
      "source": [
        "## Now that we have a good grasp of how LCEL works time to try Agents!\n",
        "\n",
        "#### Let's go to the slides to understand better how agents work and better understand it's usecase\n",
        "\n",
        "#### tools parameters, https://api.python.langchain.com/en/latest/agents/langchain.agents.load_tools.load_tools.html"
      ]
    },
    {
      "cell_type": "code",
      "execution_count": null,
      "metadata": {
        "id": "h9p1hnOr0p0Q"
      },
      "outputs": [],
      "source": [
        "from langchain.agents import load_tools, create_react_agent, initialize_agent, AgentType, AgentExecutor, create_structured_chat_agent\n",
        "from langchain.memory import ConversationBufferMemory\n",
        "from langchain_core.messages import AIMessage, HumanMessage, SystemMessage\n",
        "from langchain_core.tools import Tool"
      ]
    },
    {
      "cell_type": "code",
      "execution_count": null,
      "metadata": {
        "id": "823VJcAZ3HWy"
      },
      "outputs": [],
      "source": []
    },
    {
      "cell_type": "code",
      "execution_count": null,
      "metadata": {
        "id": "2_uEc-J41L0D"
      },
      "outputs": [],
      "source": [
        "# Play around with average and median\n"
      ]
    },
    {
      "cell_type": "markdown",
      "metadata": {
        "id": "I8e0oWpHJ9ix"
      },
      "source": [
        "## LangChain Agent Deep Dive\n",
        "\n",
        "#### Understanding tools a little better\n",
        "#### Creating a chatbot using ReAct agents"
      ]
    },
    {
      "cell_type": "code",
      "execution_count": null,
      "metadata": {
        "id": "rQhMkLWp6tv_"
      },
      "outputs": [],
      "source": [
        "import datetime\n",
        "from wikipedia import summary\n",
        "from langchain import hub"
      ]
    },
    {
      "cell_type": "code",
      "execution_count": null,
      "metadata": {
        "id": "1Hfq1RpJ5RZs"
      },
      "outputs": [],
      "source": [
        "# Define Tools DATETIME tool\n",
        "def get_current_time(*args, **kwargs):\n",
        "    \"\"\"Returns the current time in H:MM AM/PM format.\"\"\"\n",
        "\n",
        "    now = datetime.datetime.now()\n",
        "    return now.strftime(\"%I:%M %p\")"
      ]
    },
    {
      "cell_type": "code",
      "execution_count": null,
      "metadata": {
        "id": "kALxhrWw5YQS"
      },
      "outputs": [],
      "source": [
        "# Search wikipedia tool\n"
      ]
    },
    {
      "cell_type": "code",
      "execution_count": null,
      "metadata": {
        "id": "jwYhchIJ64lp"
      },
      "outputs": [],
      "source": [
        "# Define the tools that the agent can use\n"
      ]
    },
    {
      "cell_type": "code",
      "execution_count": null,
      "metadata": {
        "id": "NqoI2Ft46-AC"
      },
      "outputs": [],
      "source": [
        "# Load the correct JSON Chat Prompt from the hub\n"
      ]
    },
    {
      "cell_type": "code",
      "execution_count": null,
      "metadata": {
        "id": "nSQlMjrK7R4r"
      },
      "outputs": [],
      "source": [
        "# Create a structured Chat Agent with Conversation Buffer Memory\n",
        "\n",
        "# ConversationBufferMemory stores the conversation history, allowing the agent to maintain context across interactions! Context help with his reasoning\n"
      ]
    },
    {
      "cell_type": "code",
      "execution_count": null,
      "metadata": {
        "id": "4J6FH-Ro7RyA"
      },
      "outputs": [],
      "source": [
        "# create_structured_chat_agent initializes a chat agent designed to interact using a structured prompt and tools\n",
        "# It combines the language model (llm), tools, and prompt to create an interactive agent\n"
      ]
    },
    {
      "cell_type": "code",
      "execution_count": null,
      "metadata": {
        "id": "dOjS3SqM8ST0"
      },
      "outputs": [],
      "source": [
        "# AgentExecutor is responsible for managing the interaction between the user input, the agent, and the tools\n",
        "# It also handles memory to ensure context is maintained throughout the conversation\n"
      ]
    },
    {
      "cell_type": "code",
      "execution_count": null,
      "metadata": {
        "id": "BJ7h6P3R8SRf"
      },
      "outputs": [],
      "source": [
        "# Initial system message to set the context for the chat\n",
        "# SystemMessage is used to define a message from the system to the agent, setting initial instructions or context\n"
      ]
    },
    {
      "cell_type": "code",
      "execution_count": null,
      "metadata": {
        "id": "VvgM9OZu8SOG"
      },
      "outputs": [],
      "source": [
        "# Chat Loop to interact with the user\n"
      ]
    },
    {
      "cell_type": "markdown",
      "metadata": {
        "id": "W34sUSaEJ9ix"
      },
      "source": [
        "### LangChain Tools Deep Dive"
      ]
    },
    {
      "cell_type": "code",
      "execution_count": null,
      "metadata": {
        "id": "gfCKH6Zy-6Y8"
      },
      "outputs": [],
      "source": [
        "# Docs: https://python.langchain.com/v0.1/docs/modules/tools/custom_tools/\n",
        "\n",
        "from langchain_core.tools import StructuredTool, Tool\n",
        "from langchain.agents import AgentExecutor, create_tool_calling_agent"
      ]
    },
    {
      "cell_type": "code",
      "execution_count": null,
      "metadata": {
        "id": "xmcKBEDt-t0B"
      },
      "outputs": [],
      "source": [
        "def greet_user(name: str) -> str:\n",
        "    \"\"\"Greets the user by name.\"\"\"\n",
        "    return f\"Hello, {name}!\"\n",
        "\n",
        "\n",
        "def reverse_string(text: str) -> str:\n",
        "    \"\"\"Reverses the given string.\"\"\"\n",
        "    return text[::-1]\n"
      ]
    },
    {
      "cell_type": "code",
      "execution_count": null,
      "metadata": {
        "id": "-YZ3Br3m-wrc"
      },
      "outputs": [],
      "source": [
        "# Pydantic model for tool arguments\n",
        "class ConcatenateStringsArgs(BaseModel):\n"
      ]
    },
    {
      "cell_type": "code",
      "execution_count": null,
      "metadata": {
        "id": "Ck36j0il-0wJ"
      },
      "outputs": [],
      "source": [
        "# Create tools using the Tool and StructuredTool constructor approach\n",
        "tools = [\n",
        "    # Use Tool for simpler functions with a single input parameter.\n",
        "    # This is straightforward and doesn't require an input schema.\n",
        "\n",
        "    # Use Tool for another simple function with a single input parameter.\n",
        "\n",
        "    # Use StructuredTool for more complex functions that require multiple input parameters.\n",
        "    # StructuredTool allows us to define an input schema using Pydantic, ensuring proper validation and description.\n",
        "\n",
        "]"
      ]
    },
    {
      "cell_type": "code",
      "execution_count": null,
      "metadata": {
        "id": "P2ZOBmW-_n64"
      },
      "outputs": [],
      "source": [
        "# Pull the prompt template from the hub\n"
      ]
    },
    {
      "cell_type": "code",
      "execution_count": null,
      "metadata": {
        "id": "WP95ZDrY_qaq"
      },
      "outputs": [],
      "source": [
        "# Create the ReAct agent using the create_tool_calling_agent function\n",
        "agent = create_tool_calling_agent(\n",
        "# Language model to use\n",
        "# List of tools available to the agent\n",
        "# Prompt template to guide the agent's responses\n",
        ")"
      ]
    },
    {
      "cell_type": "code",
      "execution_count": null,
      "metadata": {
        "id": "sintmttW_uI_"
      },
      "outputs": [],
      "source": [
        "# Create the agent executor\n",
        "agent_executor = AgentExecutor.from_agent_and_tools(\n",
        "# The agent to execute\n",
        "# List of tools available to the agent\n",
        "# Enable verbose logging\n",
        "# Handle parsing errors gracefully\n",
        ")"
      ]
    },
    {
      "cell_type": "code",
      "execution_count": null,
      "metadata": {
        "id": "w5fcwRd0-3wg"
      },
      "outputs": [],
      "source": [
        "# Test the agent with sample queries\n",
        "response = agent_executor.invoke({\"input\": \"Greet Alice\"})\n",
        "print(\"Response for 'Greet Alice':\", response)\n",
        "\n",
        "response = agent_executor.invoke({\"input\": \"Reverse the string 'hello'\"})\n",
        "print(\"Response for 'Reverse the string hello':\", response)\n",
        "\n",
        "response = agent_executor.invoke({\"input\": \"Concatenate 'hello' and 'world'\"})\n",
        "print(\"Response for 'Concatenate hello and world':\", response)"
      ]
    },
    {
      "cell_type": "code",
      "execution_count": null,
      "metadata": {
        "id": "zS6pmNAxU2o1"
      },
      "outputs": [],
      "source": []
    },
    {
      "cell_type": "markdown",
      "metadata": {
        "id": "slgzYVY4J9ix"
      },
      "source": [
        "# Langgraph\n",
        "\n",
        "### LangGraph is a library for building stateful, multi-actor applications with LLMs, used to create agent and multi-agent workflows. Compared to other LLM frameworks, it offers these core benefits: cycles, controllability, and persistence."
      ]
    },
    {
      "cell_type": "code",
      "execution_count": null,
      "metadata": {
        "id": "4qd22BqPIklG"
      },
      "outputs": [],
      "source": [
        "import os\n",
        "from openai import OpenAI\n",
        "\n",
        "messages=[\n",
        "        {\n",
        "            \"role\": \"user\",\n",
        "            \"content\": \"Get a list of 100 attractions in Singapore for tourists\",\n",
        "        },\n",
        "    ]\n",
        "\n",
        "response = gpt.invoke(messages)"
      ]
    },
    {
      "cell_type": "code",
      "execution_count": null,
      "metadata": {
        "id": "dYVTp-2aInMS"
      },
      "outputs": [],
      "source": [
        "print(response.content)"
      ]
    },
    {
      "cell_type": "code",
      "execution_count": null,
      "metadata": {
        "id": "W-qz_rUCI-wR"
      },
      "outputs": [],
      "source": [
        "prompt = \"\"\"\\\n",
        "    Please give more information about a travel destination.\n",
        "    please include address, category, recommendated visit duration and description\n",
        "    when you give the recommendation\n",
        "\"\"\""
      ]
    },
    {
      "cell_type": "code",
      "execution_count": null,
      "metadata": {
        "id": "s-gxHh7HJDhz"
      },
      "outputs": [],
      "source": [
        "messages=[\n",
        "\n",
        "]\n",
        "\n",
        "response = gpt.invoke(messages)"
      ]
    },
    {
      "cell_type": "code",
      "execution_count": null,
      "metadata": {
        "id": "saNk_gBiJTh-"
      },
      "outputs": [],
      "source": [
        "response.content.strip()"
      ]
    },
    {
      "cell_type": "code",
      "execution_count": null,
      "metadata": {
        "id": "GJardR4xJjeA"
      },
      "outputs": [],
      "source": [
        "prompt = \"\"\"\\\n",
        "    Please give more information about a travel destination.\n",
        "    please include address, category, recommendated visit duration and description.\n",
        "    recommended visit duration should be in minutes.\n",
        "    when you give the recommendation.\n",
        "\n",
        "    Please make sure the response is in valid JSON format.\n",
        "\n",
        "    For example:\n",
        "    {\n",
        "        \"attractions\": [\n",
        "            {\n",
        "                \"name\": \"Marina Bay Sands\",\n",
        "                \"address\": \"10 Bayfront Ave, Singapore 018956\",\n",
        "                \"category\": \"Hotel\",\n",
        "                \"recommended_visit_duration\": \"120\",\n",
        "                \"description\": \"Marina Bay Sands is an integrated resort fronting Marina Bay in Singapore. At its opening in 2010, it was billed as the world's most expensive standalone casino property at S$8 billion, including the land cost.\"\n",
        "            }\n",
        "        ]\n",
        "    }\n",
        "\"\"\""
      ]
    },
    {
      "cell_type": "code",
      "execution_count": null,
      "metadata": {
        "id": "PtS0s6E1Jn-8"
      },
      "outputs": [],
      "source": [
        "messages=[\n",
        "    {\n",
        "        \"role\": \"system\",\n",
        "        \"content\": prompt,\n",
        "    },\n",
        "    {\n",
        "        \"role\": \"user\",\n",
        "        \"content\": \"Get a list of 100 attractions in Singapore for tourists\",\n",
        "    },\n",
        "]"
      ]
    },
    {
      "cell_type": "code",
      "execution_count": null,
      "metadata": {
        "id": "tXIaj8g5JrFU"
      },
      "outputs": [],
      "source": [
        "response = gpt.invoke(messages)\n",
        "\n",
        "print(response.content)"
      ]
    },
    {
      "cell_type": "markdown",
      "metadata": {
        "id": "Vuswxg3gKttl"
      },
      "source": [
        "We want 100 places, but the LLM only give us partial result\n",
        "\n",
        "how to solve this problem?\n",
        "\n",
        "1. ask fewer each time, ask for 20 items, and repeated with context\n",
        "1. generate 100 names first and ask for the descriptions and so on for each of them\n",
        "\n",
        "![Attractions Workflow](https://i.imgur.com/fuyiGCs.png)\n",
        "\n"
      ]
    },
    {
      "cell_type": "code",
      "execution_count": null,
      "metadata": {
        "id": "tzz3Bx6hJ9ix"
      },
      "outputs": [],
      "source": [
        "from typing import TypedDict\n",
        "from langgraph.graph import StateGraph, END\n",
        "from langchain.prompts import ChatPromptTemplate\n",
        "from pydantic import BaseModel, Field\n",
        "\n",
        "\n",
        "class State(TypedDict):\n",
        "    # input is like \"100, Singapore\"\n",
        "    input: str\n",
        "    num: int\n",
        "    tasks: list\n",
        "    places: list\n",
        "    current_places: list\n",
        "    output: str"
      ]
    },
    {
      "cell_type": "code",
      "execution_count": null,
      "metadata": {
        "id": "F0S5UnzhJ9ix"
      },
      "outputs": [],
      "source": [
        "class Attraction(BaseModel):\n",
        "    name: str = Field(description=\"Name of the attraction\")\n",
        "    address: str = Field(description=\"Address of the attraction\")\n",
        "    category: str = Field(description=\"Category of the attraction\")\n",
        "    recommended_visit_duration: int = Field(\n",
        "        description=\"Recommended visit duration in minutes\"\n",
        "    )\n",
        "    description: str = Field(description=\"Description of the attraction\")\n",
        "\n",
        "\n",
        "class Attractions(BaseModel):\n",
        "    places: list[Attraction] = Field(description=\"List of attractions\")"
      ]
    },
    {
      "cell_type": "code",
      "execution_count": null,
      "metadata": {
        "id": "RCRLgoc4hurc"
      },
      "outputs": [],
      "source": [
        "def generate_task(state: State):\n",
        "    \"\"\"break the task into smaller tasks\"\"\"\n"
      ]
    },
    {
      "cell_type": "code",
      "execution_count": null,
      "metadata": {
        "id": "esBHe_f5hxg9"
      },
      "outputs": [],
      "source": []
    },
    {
      "cell_type": "code",
      "execution_count": null,
      "metadata": {
        "id": "dtg_OPAuhxfJ"
      },
      "outputs": [],
      "source": [
        "prompt = ChatPromptTemplate.from_messages(\n",
        "    [\n",
        "        (\n",
        "            \"system\",\n",
        "            \"You are a professional travel planner. Please generate the attractions based on the task and do not repeat from the already known places.\",\n",
        "        ),\n",
        "        (\n",
        "            \"human\",\n",
        "            \"\"\"\\\n",
        "                Here is the task:\n",
        "                {task}\n",
        "\n",
        "                Here are the places I have already known, please don't repeat them:\n",
        "                {places}\n",
        "                \"\"\",\n",
        "        ),\n",
        "    ]\n",
        ")\n",
        "\n"
      ]
    },
    {
      "cell_type": "code",
      "execution_count": null,
      "metadata": {
        "id": "UNUP_nlWhxcO"
      },
      "outputs": [],
      "source": [
        "results = executor.invoke(\n",
        "    {\n",
        "        \"task\": \"Generate a list of 19 attractions in Singapore for tourists\",\n",
        "        \"places\": [],\n",
        "    }\n",
        ")"
      ]
    },
    {
      "cell_type": "code",
      "execution_count": null,
      "metadata": {
        "id": "X5O4MMUUi6-W"
      },
      "outputs": [],
      "source": [
        "print(results)"
      ]
    },
    {
      "cell_type": "markdown",
      "metadata": {
        "id": "ZazqSiBcU2o7"
      },
      "source": [
        "# We need to handle the duplication!"
      ]
    },
    {
      "cell_type": "code",
      "execution_count": null,
      "metadata": {
        "id": "f8i5Z7rah5U8"
      },
      "outputs": [],
      "source": [
        "# Creating a state machine, just workflow\n",
        "def execute(state: State):\n",
        "    \"\"\"call the LLM to perform the task\"\"\"\n",
        "    # 1 get one task from the tasks, the pop it\n",
        "    # 2 call the LLM to perform the task and get the result\n"
      ]
    },
    {
      "cell_type": "code",
      "execution_count": null,
      "metadata": {
        "id": "kA2qkqSDh5Lt"
      },
      "outputs": [],
      "source": [
        "dedup_prompt = ChatPromptTemplate.from_messages(\n",
        "    [\n",
        "        (\n",
        "            \"system\",\n",
        "            \"You are a helpful assistant in deduplicating the attractions. Please remove the duplicates from the current places and add them to the known places.\",\n",
        "        ),\n",
        "        (\n",
        "            \"human\",\n",
        "            \"\"\"\\\n",
        "                Here are the places already known:\n",
        "                {places}\n",
        "\n",
        "                Here are the newly generated places:\n",
        "                {current_places}\n",
        "\n",
        "                Return the current places without duplicates.\n",
        "                \"\"\",\n",
        "        ),\n",
        "    ]\n",
        ")\n",
        "\n"
      ]
    },
    {
      "cell_type": "code",
      "execution_count": null,
      "metadata": {
        "id": "vPoyQOxoh5JO"
      },
      "outputs": [],
      "source": [
        "def dedup(state: State):\n",
        "    \"\"\"\"\"\"\n",
        "    # call the LLM to deduplicate the places\n"
      ]
    },
    {
      "cell_type": "code",
      "execution_count": null,
      "metadata": {
        "id": "eq8hoAfzh5GK"
      },
      "outputs": [],
      "source": [
        "from IPython.display import Image, display\n",
        "\n"
      ]
    },
    {
      "cell_type": "code",
      "execution_count": null,
      "metadata": {
        "id": "f7ijB_fTiGPs"
      },
      "outputs": [],
      "source": []
    },
    {
      "cell_type": "markdown",
      "metadata": {
        "id": "75EY3DH6J9ix"
      },
      "source": [
        "### Langserve! If time permit!\n",
        "\n",
        "**LangServe** is a tool within LangChain that makes it easy to deploy your language model applications in production. It allows you to serve your LangChain workflows as APIs, which is super helpful when you want to scale or integrate your application into larger systems.\n",
        "\n",
        "---\n",
        "\n",
        "### Why is it helpful?\n",
        "- **Easy Deployment**: LangServe simplifies the process of turning your LangChain workflows into APIs.\n",
        "- **Scalability**: It helps scale your application so that multiple users or systems can interact with it.\n",
        "- **Seamless Integration**: LangServe allows you to connect your application with other services through an API, making it accessible in different environments.\n",
        "\n",
        "---\n",
        "\n",
        "### When should you use it?\n",
        "- When you need to **deploy** your LangChain project for **real-world use**.\n",
        "- If you want to **share your model** as a service for others to use (e.g., for a web app or another application).\n",
        "- When you need to **scale** your language model applications to handle more users or requests.\n",
        "\n",
        "In short, LangServe is perfect for moving your LangChain project from development to production!\n"
      ]
    },
    {
      "cell_type": "code",
      "execution_count": null,
      "metadata": {
        "id": "_FS-AFiuAo-Y"
      },
      "outputs": [],
      "source": [
        "from fastapi import FastAPI\n",
        "from langchain_core.prompts import ChatPromptTemplate\n",
        "from langchain_core.output_parsers import StrOutputParser\n",
        "from langchain_openai import ChatOpenAI\n",
        "from langserve import add_routes\n",
        "import nest_asyncio\n",
        "import uvicorn"
      ]
    },
    {
      "cell_type": "code",
      "execution_count": null,
      "metadata": {
        "id": "DrawNJoXAyy5"
      },
      "outputs": [],
      "source": [
        "# 1. Create prompt template\n"
      ]
    },
    {
      "cell_type": "code",
      "execution_count": null,
      "metadata": {
        "id": "ly4-Se1dA5gB"
      },
      "outputs": [],
      "source": [
        "# 2. Create chain\n"
      ]
    },
    {
      "cell_type": "code",
      "execution_count": null,
      "metadata": {
        "id": "lTA6PWwfA9r6"
      },
      "outputs": [],
      "source": [
        "# 3. App definition\n",
        "app = FastAPI(\n",
        "  title=\"LangChain Server\",\n",
        "  version=\"1.0\",\n",
        "  description=\"A simple API server using LangChain's Runnable interfaces\",\n",
        ")"
      ]
    },
    {
      "cell_type": "code",
      "execution_count": null,
      "metadata": {
        "id": "9DiU8tlVBfvd"
      },
      "outputs": [],
      "source": [
        "# Allow asyncio to work within a running event loop (e.g., in Jupyter)\n",
        "nest_asyncio.apply()"
      ]
    },
    {
      "cell_type": "code",
      "execution_count": null,
      "metadata": {
        "id": "jnsUczlhHVVI"
      },
      "outputs": [],
      "source": []
    },
    {
      "cell_type": "code",
      "execution_count": null,
      "metadata": {
        "id": "8r5FB9-lBBuX"
      },
      "outputs": [],
      "source": [
        "# 4. Adding chain route\n"
      ]
    }
  ],
  "metadata": {
    "colab": {
      "provenance": [],
      "include_colab_link": true
    },
    "kernelspec": {
      "display_name": "Python 3",
      "name": "python3"
    },
    "language_info": {
      "name": "python"
    }
  },
  "nbformat": 4,
  "nbformat_minor": 0
}